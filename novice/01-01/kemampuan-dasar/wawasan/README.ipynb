{
 "cells": [
  {
   "cell_type": "markdown",
   "metadata": {},
   "source": [
    "**Judul** : Kemampuan Dasar (Git dan Dasar-dasar OS)  \n",
    "**Oleh**: Muhammad Gilang Nur Khoiri  \n",
    "**Tanggal** : 2 Desember 2019  \n",
    "**Ringkasan materi** :  \n",
    "> Hari ini membahas mengenai perintah-perintah dasar GIT seperti: push, add, commit, rebase, checkout, dsb\n",
    "> Selain itu, membahas mengenai perintah-perintah dasar command-line Sistem Operasi termasuk di dalamnya pengertian apa itu Sistem operasi dan bagaimana cara kerjanya secara singkat.\n",
    "\n",
    "**Penjelasan tentang isi repo**:  \n",
    "> Repo ini berisi folder kemampuan dasar 1 (berupa dasar-dasar Sistem Operasi) dan kemampuan dasar 2 (berupa dasar-dasar perintah GIT)\n",
    "\n",
    "**Lisensi**:\n"
   ]
  },
  {
   "cell_type": "code",
   "execution_count": null,
   "metadata": {},
   "outputs": [],
   "source": []
  }
 ],
 "metadata": {
  "kernelspec": {
   "display_name": "Python 3",
   "language": "python",
   "name": "python3"
  },
  "language_info": {
   "codemirror_mode": {
    "name": "ipython",
    "version": 3
   },
   "file_extension": ".py",
   "mimetype": "text/x-python",
   "name": "python",
   "nbconvert_exporter": "python",
   "pygments_lexer": "ipython3",
   "version": "3.7.3"
  }
 },
 "nbformat": 4,
 "nbformat_minor": 2
}
