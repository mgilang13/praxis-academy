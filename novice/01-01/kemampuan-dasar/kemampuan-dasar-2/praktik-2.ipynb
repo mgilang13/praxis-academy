{
 "cells": [
  {
   "cell_type": "markdown",
   "metadata": {},
   "source": [
    "# Team Collaboration With GitHub\n",
    "\n",
    "## 1. Adding Team Members - Organization & Collaborators\n",
    "\n",
    "### Organization\n",
    "\n",
    "![](images/praktik-2/1.png)\n",
    "![](images/praktik-2/2.png)\n",
    "![](images/praktik-2/3.png)\n",
    "\n",
    "### Collaborators\n",
    "![](images/praktik-2/4.png)\n",
    "\n",
    "Adding team and collaborator\n",
    "![](images/praktik-2/5.png)\n",
    "\n",
    "## 2. Pull Requests\n",
    "Fork hampir sama seperti clone\n",
    "![](images/praktik-2/6.png)\n",
    "\n",
    "Pull request dilakukan apabila terjadi perubahan pada repository\n",
    "![](images/praktik-2/7.png)\n",
    "\n",
    "\n"
   ]
  },
  {
   "cell_type": "code",
   "execution_count": null,
   "metadata": {},
   "outputs": [],
   "source": []
  }
 ],
 "metadata": {
  "kernelspec": {
   "display_name": "Python 3",
   "language": "python",
   "name": "python3"
  },
  "language_info": {
   "codemirror_mode": {
    "name": "ipython",
    "version": 3
   },
   "file_extension": ".py",
   "mimetype": "text/x-python",
   "name": "python",
   "nbconvert_exporter": "python",
   "pygments_lexer": "ipython3",
   "version": "3.7.3"
  }
 },
 "nbformat": 4,
 "nbformat_minor": 2
}
