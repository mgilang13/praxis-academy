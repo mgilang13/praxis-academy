{
 "cells": [
  {
   "cell_type": "markdown",
   "metadata": {},
   "source": [
    "# Getting Started: Collaborative Development with Git\n",
    "\n",
    "### Step 1: Creates new project and hosts it on Github\n",
    "Pertama, kita membuat new project di akun github kita\n",
    "\n",
    "![gambar1](images/1.png)\n",
    "\n",
    "Kemudian kita membuat folder baru di local directory kita, dan mulai pushing dokumen-dokumnen ke folder github yang baru saja dibuat.\n",
    "\n",
    "![gambar2](images/2.png)\n",
    "\n",
    "\n",
    "---\n",
    "\n",
    "### Step 2: Add file hickory-dickory in hickory-dickory branch\n",
    "Lalu misalkan bila ada anggota grup yang menambahkan file baru (hickory-dickory-dock.txt) pada branch baru (hickory-dickory)\n",
    "\n",
    "![gambar3](images/3.png)\n",
    "\n",
    "Maka pada gambar pada branch hickory-dickory dapat kita lihat file hickory-dickory-dock.txt berhasil ditambahkan\n",
    "![gambar4](images/4.png)\n",
    "\n",
    "Sementara itu pada branch master, file hickory-dickory-dock.txt belum ditambahkan\n",
    "![gambar5](images/5.png)\n",
    "\n",
    "\n",
    "\n",
    "---\n",
    "### Step 3: Review and accepts Bob's simple changes\n",
    "Kemudian Alice me-review kembali apa yang Bob push ke branch hickory-dickory\n",
    "![gambar6](images/6.png)\n",
    "\n",
    "Setelah itu, Alice melakukan merge dan push atas perubahan yang telah dilakukan oleh Bob tadi\n",
    "![gambar7](images/7.png)\n",
    "![gambar8](images/8.png)\n",
    "\n",
    "\n",
    "\n",
    "---\n",
    "### Step 4: Bob makes lots of changes\n",
    "Kemudian Bob melakukan updating pada repository-nya"
   ]
  },
  {
   "cell_type": "code",
   "execution_count": null,
   "metadata": {},
   "outputs": [],
   "source": []
  }
 ],
 "metadata": {
  "kernelspec": {
   "display_name": "Python 3",
   "language": "python",
   "name": "python3"
  },
  "language_info": {
   "codemirror_mode": {
    "name": "ipython",
    "version": 3
   },
   "file_extension": ".py",
   "mimetype": "text/x-python",
   "name": "python",
   "nbconvert_exporter": "python",
   "pygments_lexer": "ipython3",
   "version": "3.7.3"
  }
 },
 "nbformat": 4,
 "nbformat_minor": 2
}
